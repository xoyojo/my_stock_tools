{
 "cells": [
  {
   "cell_type": "code",
   "execution_count": 5,
   "metadata": {},
   "outputs": [],
   "source": [
    "\n",
    "import akshare as ak\n"
   ]
  },
  {
   "cell_type": "code",
   "execution_count": 6,
   "metadata": {},
   "outputs": [
    {
     "name": "stdout",
     "output_type": "stream",
     "text": [
      "        行业代码   行业名称  成份个数  静态市盈率  TTM(滚动)市盈率   市净率  静态股息率\n",
      "0  801016.SI    种植业    20  43.62       35.76  3.02   1.14\n",
      "1  801015.SI     渔业     6  47.86       87.77  2.08   1.22\n",
      "2  801014.SI     饲料    15  58.74       43.77  4.02   0.26\n",
      "3  801012.SI  农产品加工    23  49.67       47.97  2.42   0.52\n",
      "4  801017.SI    养殖业    22  69.84      116.31  2.93   0.58\n",
      "        行业代码   行业名称  成份个数   静态市盈率  TTM(滚动)市盈率   市净率  静态股息率\n",
      "0  850111.SI     种子     8   53.17       50.99  5.39   0.31\n",
      "1  850113.SI  其他种植业     5  101.54      121.88  2.07   0.21\n",
      "2  850122.SI   水产养殖     4   86.28       63.87  1.87   0.54\n",
      "3  850142.SI   畜禽饲料     9   48.72       26.34  1.87   0.00\n",
      "4  850151.SI   果蔬加工     5   33.80       27.19  3.04   0.36\n"
     ]
    }
   ],
   "source": [
    "# 申万行业信息\n",
    "# 二级行业信息\n",
    "sw_index_second_info_df = ak.sw_index_second_info()\n",
    "print(sw_index_second_info_df.head())\n",
    "# 三级行业信息\n",
    "sw_index_third_info_df = ak.sw_index_third_info()\n",
    "print(sw_index_third_info_df.head())"
   ]
  },
  {
   "cell_type": "code",
   "execution_count": 8,
   "metadata": {},
   "outputs": [
    {
     "name": "stdout",
     "output_type": "stream",
     "text": [
      "   序号    证券代码  证券名称     最新权重        计入日期\n",
      "0   1  000713  丰乐种业   8.5588  2021-12-13\n",
      "1   2  000998  隆平高科  32.3471  2021-12-13\n",
      "2   3  002041  登海种业  13.2981  2021-12-13\n",
      "3   4  300087  荃银高科  15.7376  2021-12-13\n",
      "4   5  300189  神农科技   6.6305  2021-12-13\n",
      "5   6  600313  农发种业  13.7133  2021-12-13\n",
      "6   7  600354  敦煌种业   5.6904  2021-12-13\n",
      "7   8  600371  万向德农   4.0239  2021-12-13\n"
     ]
    }
   ],
   "source": [
    "#申万指数成分股\n",
    "index_component_sw_df = ak.index_component_sw(symbol=\"850111\")\n",
    "print(index_component_sw_df)"
   ]
  }
 ],
 "metadata": {
  "kernelspec": {
   "display_name": "juejin",
   "language": "python",
   "name": "python3"
  },
  "language_info": {
   "codemirror_mode": {
    "name": "ipython",
    "version": 3
   },
   "file_extension": ".py",
   "mimetype": "text/x-python",
   "name": "python",
   "nbconvert_exporter": "python",
   "pygments_lexer": "ipython3",
   "version": "3.10.10"
  },
  "orig_nbformat": 4
 },
 "nbformat": 4,
 "nbformat_minor": 2
}
