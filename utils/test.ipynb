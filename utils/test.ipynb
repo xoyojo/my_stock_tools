{
 "cells": [
  {
   "cell_type": "code",
   "execution_count": 14,
   "metadata": {},
   "outputs": [],
   "source": [
    "import numpy as np"
   ]
  },
  {
   "cell_type": "code",
   "execution_count": 21,
   "metadata": {},
   "outputs": [
    {
     "data": {
      "text/plain": [
       "'你是个混蛋。'"
      ]
     },
     "execution_count": 21,
     "metadata": {},
     "output_type": "execute_result"
    }
   ],
   "source": [
    "def save_json(url, filename):\n",
    "    \n",
    "\n"
   ]
  },
  {
   "cell_type": "code",
   "execution_count": 20,
   "metadata": {},
   "outputs": [
    {
     "data": {
      "text/plain": [
       "'you are a***'"
      ]
     },
     "execution_count": 20,
     "metadata": {},
     "output_type": "execute_result"
    }
   ],
   "source": [
    "# Ask the user to provide a line of text.\n",
    "# Scan the text for the following mildly offensive words: \\\n",
    "# arse, bloody, damn, dummy.\n",
    "# If you find any, then replace its letters with asterisks \\\n",
    "# except for the first letter in each offensive word.\n",
    "# Print the resulting text.\n",
    "def censor(text):\n",
    "    result = []\n",
    "    for word in text.split():\n",
    "        if word in ['arse','bloody','damn','dummy']:\n",
    "            result.append(word[0]+'*'*(len(word)-1))\n",
    "        else:\n",
    "            result.append(word)\n",
    "    return ' '.join(result)\n",
    "\n",
    "r = censor('you are arse')\n",
    "r"
   ]
  }
 ],
 "metadata": {
  "kernelspec": {
   "display_name": "juejin",
   "language": "python",
   "name": "python3"
  },
  "language_info": {
   "codemirror_mode": {
    "name": "ipython",
    "version": 3
   },
   "file_extension": ".py",
   "mimetype": "text/x-python",
   "name": "python",
   "nbconvert_exporter": "python",
   "pygments_lexer": "ipython3",
   "version": "3.8.16"
  },
  "orig_nbformat": 4
 },
 "nbformat": 4,
 "nbformat_minor": 2
}
