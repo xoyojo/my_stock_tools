{
 "cells": [
  {
   "cell_type": "code",
   "execution_count": null,
   "metadata": {},
   "outputs": [],
   "source": [
    "import akshare as ak\n",
    "dd = ak.stock_zh_a_hist('300913')"
   ]
  },
  {
   "cell_type": "code",
   "execution_count": null,
   "metadata": {},
   "outputs": [],
   "source": [
    "dd"
   ]
  },
  {
   "cell_type": "code",
   "execution_count": null,
   "metadata": {},
   "outputs": [],
   "source": []
  },
  {
   "cell_type": "code",
   "execution_count": null,
   "metadata": {},
   "outputs": [],
   "source": [
    "import akshare as ak\n",
    "quarters = [\"0331\", \"0630\", \"0930\", \"1231\"]\n",
    "date_list = [str(i) + q for i in range(2009, 2022) for q in quarters]\n",
    "print(date_list)\n",
    "\n",
    "\n",
    "stock_yjbb_em_df = ak.stock_yjbb_em(date=\"20220331\")\n",
    "print(stock_yjbb_em_df  )\n"
   ]
  },
  {
   "cell_type": "code",
   "execution_count": null,
   "metadata": {},
   "outputs": [],
   "source": [
    "\n",
    "import talib as tl\n",
    "import akshare as ak\n",
    "from requests.exceptions import RequestException\n",
    "import concurrent.futures\n",
    "from pandas import DataFrame, concat\n",
    "\n",
    "def fetch_one_quarter_bb_from_ak(date):\n",
    "    \"\"\"\n",
    "    返回沪深京所有股票某季度的业绩报表数据\n",
    "    Args: date\n",
    "        type:str choice of {\"XXXX0331\", \"XXXX0630\", \"XXXX0930\", \"XXXX1231\"}; 从 20100331 开始\n",
    "    Return: stock_data\n",
    "        type:daraframe https://www.akshare.xyz/data/stock/stock.html#id136\n",
    "    \"\"\"\n",
    "\n",
    "    try:\n",
    "        data = ak.stock_yjbb_em(date=date)\n",
    "    except RequestException as exc:\n",
    "        print(f'request failed: unable to get stock data: {exc}')\n",
    "        return False\n",
    "\n",
    "    if data is None or data.empty:\n",
    "        print(f'日期:{date},没有数据')\n",
    "        return False\n",
    "\n",
    "    return data\n",
    "\n",
    "\n",
    "def fetch_all_quarter_bb_from_ak():\n",
    "    \"\"\"\n",
    "    返回沪深京所有股票季度业绩报表数据\n",
    "    Return: all_bb\n",
    "        type:dataframe  https://www.akshare.xyz/data/stock/stock.html#id136\n",
    "    \"\"\"\n",
    "    all_bb = DataFrame()\n",
    "    quarters = [\"0331\", \"0630\", \"0930\", \"1231\"]\n",
    "    date_list = [str(i) + q for i in range(2010, 2023) for q in quarters]\n",
    "\n",
    "    with concurrent.futures.ThreadPoolExecutor(max_workers=12) as executor:\n",
    "        future_to_one_quarters = {\n",
    "            executor.submit(fetch_one_quarter_bb_from_ak, date):\n",
    "            date\n",
    "            for date in date_list\n",
    "        }  \n",
    "        \n",
    "        # as_completed:当子线程中的任务执行完后，用 result() 获取返回结果\n",
    "        for future in concurrent.futures.as_completed(future_to_one_quarters):\n",
    "            try:\n",
    "                data = future.result()\n",
    "                # if data:\n",
    "                all_bb = concat([all_bb, data], axis=0)\n",
    "\n",
    "            except Exception as exc:\n",
    "                print(f'future.result() generated an exception: {exc}')\n",
    "    return all_bb\n"
   ]
  },
  {
   "cell_type": "code",
   "execution_count": null,
   "metadata": {},
   "outputs": [],
   "source": [
    "all_bb = fetch_all_quarter_bb_from_ak()"
   ]
  },
  {
   "cell_type": "code",
   "execution_count": null,
   "metadata": {},
   "outputs": [],
   "source": [
    "tt = all_bb[all_bb['股票代码'] == '600519']\n",
    "# tt按照报告日期排序\n",
    "# print(tt.head)\n",
    "tt = tt.sort_values(by='最新公告日期', ascending=True)\n",
    "tt"
   ]
  },
  {
   "cell_type": "code",
   "execution_count": null,
   "metadata": {},
   "outputs": [],
   "source": [
    "import pandas as pd\n",
    "\n",
    "df_merged = pd.DataFrame()\n",
    "# 创建两个DataFrame\n",
    "df1 = pd.DataFrame({'A': ['A0', 'A1', 'A2', 'A3'],\n",
    "                    'B': ['B0', 'B1', 'B2', 'B3'],\n",
    "                    'C': ['C0', 'C1', 'C2', 'C3'],\n",
    "                    'D': ['D0', 'D1', 'D2', 'D3']})\n",
    "\n",
    "df2 = pd.DataFrame({'A': ['A4', 'A5', 'A6', 'A7'],\n",
    "                    'B': ['B4', 'B5', 'B6', 'B7'],\n",
    "                    'C': ['C4', 'C5', 'C6', 'C7'],\n",
    "                    'D': ['D4', 'D5', 'D6', 'D7']})\n",
    "\n",
    "df3 = pd.DataFrame({'A': ['A4', 'A5', 'A6', 'A7'],\n",
    "                    'B': ['B4', 'B5', 'B6', 'B7'],\n",
    "                    'C': ['C4', 'C5', 'C6', 'C7'],\n",
    "                    'D': ['D4', 'D5', 'D6', 'D7']})\n",
    "\n",
    "# 按行合并DataFrame\n",
    "df_merged = pd.concat([df_merged, df1], axis=0)\n",
    "df_merged = pd.concat([df_merged, df2], axis=0)\n",
    "\n",
    "df_merged = pd.concat([df_merged, False], axis=0)\n",
    "\n",
    "\n",
    "print(df_merged)"
   ]
  },
  {
   "cell_type": "code",
   "execution_count": 47,
   "metadata": {},
   "outputs": [
    {
     "data": {
      "text/plain": [
       "['20100331',\n",
       " '20100630',\n",
       " '20100930',\n",
       " '20101231',\n",
       " '20110331',\n",
       " '20110630',\n",
       " '20110930',\n",
       " '20111231',\n",
       " '20120331',\n",
       " '20120630',\n",
       " '20120930',\n",
       " '20121231',\n",
       " '20130331',\n",
       " '20130630',\n",
       " '20130930',\n",
       " '20131231',\n",
       " '20140331',\n",
       " '20140630',\n",
       " '20140930',\n",
       " '20141231',\n",
       " '20150331',\n",
       " '20150630',\n",
       " '20150930',\n",
       " '20151231',\n",
       " '20160331',\n",
       " '20160630',\n",
       " '20160930',\n",
       " '20161231',\n",
       " '20170331',\n",
       " '20170630',\n",
       " '20170930',\n",
       " '20171231',\n",
       " '20180331',\n",
       " '20180630',\n",
       " '20180930',\n",
       " '20181231',\n",
       " '20190331',\n",
       " '20190630',\n",
       " '20190930',\n",
       " '20191231',\n",
       " '20200331',\n",
       " '20200630',\n",
       " '20200930',\n",
       " '20201231',\n",
       " '20210331',\n",
       " '20210630',\n",
       " '20210930',\n",
       " '20211231']"
      ]
     },
     "execution_count": 47,
     "metadata": {},
     "output_type": "execute_result"
    }
   ],
   "source": [
    "quarters = [\"0331\", \"0630\", \"0930\", \"1231\"]\n",
    "date_list = [str(i) + q for i in range(2010, 2022) for q in quarters]\n",
    "date_list   \n"
   ]
  }
 ],
 "metadata": {
  "kernelspec": {
   "display_name": "juejin",
   "language": "python",
   "name": "python3"
  },
  "language_info": {
   "codemirror_mode": {
    "name": "ipython",
    "version": 3
   },
   "file_extension": ".py",
   "mimetype": "text/x-python",
   "name": "python",
   "nbconvert_exporter": "python",
   "pygments_lexer": "ipython3",
   "version": "3.8.16"
  },
  "orig_nbformat": 4
 },
 "nbformat": 4,
 "nbformat_minor": 2
}
