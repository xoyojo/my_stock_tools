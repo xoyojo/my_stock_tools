{
 "cells": [
  {
   "cell_type": "code",
   "execution_count": null,
   "metadata": {},
   "outputs": [],
   "source": [
    "import akshare as ak\n",
    "from utils.fetch_stock_data import fetch_multi_stock_hist_from_ak\n",
    "import pickle\n",
    "\n",
    "\n",
    "all_stocks = ak.stock_zh_a_spot_em() # 获取沪深 A 股列表 http://quote.eastmoney.com/center/gridlist.html#hs_a_board\n",
    "stocks = [tuple(x) for x in all_stocks[['代码', '名称']].values] # List [('代码', '名称')]\n",
    "\n",
    "df_dump = fetch_multi_stock_hist_from_ak(stocks=stocks,start_date='20220723')\n",
    "\n",
    "# 将df 存为 二进制文件\n",
    "\n",
    "with open('all_stock_data.pkl', 'wb') as f:\n",
    "    pickle.dump(df_dump, f)"
   ]
  },
  {
   "cell_type": "code",
   "execution_count": null,
   "metadata": {},
   "outputs": [],
   "source": [
    "# 将df 存为 二进制文件\n",
    "import pickle\n",
    "with open('all_stock_data_20221223_20220327.pkl', 'wb') as f:\n",
    "    pickle.dump(df, f)\n"
   ]
  },
  {
   "cell_type": "code",
   "execution_count": null,
   "metadata": {},
   "outputs": [],
   "source": [
    "# 读取二进制文件\n",
    "import pickle\n",
    "with open('all_stock_data_20221223_20220327.pkl', 'rb') as f:\n",
    "    df1 = pickle.load(f)\n"
   ]
  },
  {
   "cell_type": "code",
   "execution_count": null,
   "metadata": {},
   "outputs": [],
   "source": [
    "import pandas as pd\n",
    "#df是股票数据的字典，key是股票代码，value是股票数据的dataframe\n",
    "#计算所有股票20230130到20230307的收益率\n",
    "\n",
    "def get_return(df, start_date, end_date):\n",
    "\n",
    "    return_df = {}\n",
    "    for key, value in df.items():\n",
    "\n",
    "        if start_date in value.index and end_date in value.index:\n",
    "            return_df[key] = value.loc[end_date, '收盘'] / value.loc[start_date, '收盘'] - 1\n",
    "\n",
    "    return return_df\n",
    "\n",
    "\n",
    "df2  = get_return(df,'2023-01-30','2023-03-07')"
   ]
  },
  {
   "cell_type": "code",
   "execution_count": null,
   "metadata": {},
   "outputs": [],
   "source": [
    "df3 = pd.DataFrame(df2.items(), columns=['stock', 'return'])\n",
    "print(df3.dtypes)\n",
    "df4 = df3[df3['return'] > 0.2]\n",
    "df4"
   ]
  },
  {
   "cell_type": "code",
   "execution_count": null,
   "metadata": {},
   "outputs": [],
   "source": [
    "#df4中stock列，格式为(300364, 中文在线)，截取其中的股票代码如：300364，然后存为txt文件\n",
    "# print(df4)\n",
    "df4['stock1'] = df4['stock'].apply(lambda x: x[0])\n",
    "#将df4中的stock1列，存为txt\n",
    "df4['stock1'].to_csv('stock1.txt', index=False, header=False)\n"
   ]
  },
  {
   "cell_type": "code",
   "execution_count": null,
   "metadata": {},
   "outputs": [],
   "source": [
    "\n",
    "df = df_dump[('600519', '贵州茅台')]\n",
    "dates = df.index.tolist()\n",
    "opens = df['open'].tolist()\n",
    "closes = df['close'].tolist()\n",
    "lows = df['low'].tolist()\n",
    "highs = df['high'].tolist()"
   ]
  },
  {
   "cell_type": "code",
   "execution_count": null,
   "metadata": {},
   "outputs": [],
   "source": [
    "opens"
   ]
  },
  {
   "cell_type": "code",
   "execution_count": null,
   "metadata": {},
   "outputs": [],
   "source": [
    "from pyecharts import options as opts\n",
    "from pyecharts.charts import Kline, Line\n",
    "import pandas as pd\n",
    "\n",
    "# 读取股票数据\n",
    "df = df_dump[('600519', '贵州茅台')]\n",
    "\n",
    "# 将数据转换为列表格式\n",
    "data = df[['open', 'close', 'low', 'high']].values.tolist()\n",
    "dates = df.index.tolist()\n",
    "opens = df['open'].tolist()\n",
    "closes = df['close'].tolist()\n",
    "lows = df['low'].tolist()\n",
    "highs = df['high'].tolist()\n",
    "\n",
    "# 绘制 K 线图\n",
    "kline = (\n",
    "    Kline()\n",
    "    .add_xaxis(dates)\n",
    "    .add_yaxis(\n",
    "        \"K线图\",\n",
    "        data,\n",
    "        itemstyle_opts=opts.ItemStyleOpts({\n",
    "    \n",
    "            \"color\":\"#ecff00\",\n",
    "            \"color0\":\"#00da3c\",\n",
    "            # border_color=\"#8A0000\",\n",
    "            # border_color0=\"#008F28\",\n",
    "        }\n",
    "        ),\n",
    "    )\n",
    "    .set_global_opts(\n",
    "        title_opts=opts.TitleOpts(title=\"600519, 贵州茅台\"),\n",
    "        xaxis_opts=opts.AxisOpts(is_scale=True),\n",
    "        yaxis_opts=opts.AxisOpts(\n",
    "            is_scale=True,\n",
    "            splitarea_opts=opts.SplitAreaOpts(\n",
    "                is_show=True, areastyle_opts=opts.AreaStyleOpts(opacity=1)\n",
    "            ),\n",
    "        ),\n",
    "        datazoom_opts=[opts.DataZoomOpts(type_=\"inside\")],\n",
    "    )\n",
    "    .set_series_opts(\n",
    "        # 为了不影响标记点，这里把标签关掉\n",
    "        # label_opts=opts.LabelOpts(is_show=False),\n",
    "\n",
    "    )\n",
    ")\n",
    "\n",
    "# 计算均线数据\n",
    "ma5 = df['close'].rolling(window=5).mean().tolist()\n",
    "ma10 = df['close'].rolling(window=10).mean().tolist()\n",
    "ma20 = df['close'].rolling(window=20).mean().tolist()\n",
    "\n",
    "# 绘制均线图\n",
    "line = (\n",
    "    Line()\n",
    "    .add_xaxis(dates)\n",
    "    .add_yaxis(\"MA5\", ma5,symbol='none') #symbol='none'去掉line上的圆点\n",
    "    .add_yaxis(\"MA10\", ma10,symbol='none')\n",
    "    .add_yaxis(\"MA20\", ma20,symbol='none')\n",
    "\n",
    "    .set_series_opts(\n",
    "        label_opts=opts.LabelOpts(is_show=False),  #去掉line上的标签\n",
    "\n",
    "    )\n",
    ")\n",
    "\n",
    "# 将 K 线图和均线图组合在一起\n",
    "kline.overlap(line).render_notebook()\n"
   ]
  },
  {
   "cell_type": "code",
   "execution_count": 2,
   "metadata": {},
   "outputs": [
    {
     "data": {
      "text/plain": [
       "['20150331',\n",
       " '20160331',\n",
       " '20170331',\n",
       " '20180331',\n",
       " '20190331',\n",
       " '20200331',\n",
       " '20210331',\n",
       " '20220331',\n",
       " '20150630',\n",
       " '20160630',\n",
       " '20170630',\n",
       " '20180630',\n",
       " '20190630',\n",
       " '20200630',\n",
       " '20210630',\n",
       " '20220630',\n",
       " '20150930',\n",
       " '20160930',\n",
       " '20170930',\n",
       " '20180930',\n",
       " '20190930',\n",
       " '20200930',\n",
       " '20210930',\n",
       " '20220930',\n",
       " '20151231',\n",
       " '20161231',\n",
       " '20171231',\n",
       " '20181231',\n",
       " '20191231',\n",
       " '20201231',\n",
       " '20211231',\n",
       " '20221231']"
      ]
     },
     "execution_count": 2,
     "metadata": {},
     "output_type": "execute_result"
    }
   ],
   "source": [
    "quarters = [\"0331\", \"0630\", \"0930\", \"1231\"]\n",
    "quarter_data = [ str(year) +quarter for quarter in quarters for year in range(2015, 2023)]\n",
    "quarter_data\n"
   ]
  }
 ],
 "metadata": {
  "kernelspec": {
   "display_name": "juejin",
   "language": "python",
   "name": "python3"
  },
  "language_info": {
   "codemirror_mode": {
    "name": "ipython",
    "version": 3
   },
   "file_extension": ".py",
   "mimetype": "text/x-python",
   "name": "python",
   "nbconvert_exporter": "python",
   "pygments_lexer": "ipython3",
   "version": "3.8.16"
  },
  "orig_nbformat": 4
 },
 "nbformat": 4,
 "nbformat_minor": 2
}
