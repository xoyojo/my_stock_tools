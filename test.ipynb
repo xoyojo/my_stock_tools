{
 "cells": [
  {
   "cell_type": "code",
   "execution_count": null,
   "metadata": {},
   "outputs": [],
   "source": [
    "from utils.tools import *\n",
    "from utils.fetch_stock_data import *\n",
    "from utils.log import logger\n",
    "import pickle\n",
    "import pandas as pd\n",
    "import numpy as np\n",
    "import akshare as ak\n",
    "\n",
    "from utils.tools import fetch_trade_date_hist\n",
    "\n",
    "fetch_trade_date_hist('2021-01-01', '2021-01-31').index.strftime('%Y-%m-%d').tolist()\n",
    "\n"
   ]
  },
  {
   "cell_type": "code",
   "execution_count": null,
   "metadata": {},
   "outputs": [],
   "source": [
    "def fetch_trade_date_hist(start_date, end_date):\n",
    "    \"\"\"\n",
    "    返回指定日期间的交易日历\n",
    "    Args: strat_date, end_date\n",
    "    \"\"\"\n",
    "    trade_dates_hist = ak.tool_trade_date_hist_sina()\n",
    "    trade_dates_hist['trade_date'] = pd.to_datetime(\n",
    "        trade_dates_hist['trade_date'])\n",
    "    trade_dates_hist.set_index('trade_date', inplace=True)\n",
    "    return trade_dates_hist[start_date:end_date]\n",
    "\n",
    "res = fetch_trade_date_hist('2021-01-01', '2021-01-31')\n",
    "res"
   ]
  },
  {
   "cell_type": "code",
   "execution_count": null,
   "metadata": {},
   "outputs": [],
   "source": [
    "index = pd.date_range('2023-03-03', '2023-05-30')\n",
    "ts = pd.Series(np.random.randn(len(index)), index=index)\n",
    "ts1 = ts[::2]\n",
    "ts['2023-02-01':'2023-03-28']\n",
    "ts.truncate(after='2023-03-28')"
   ]
  },
  {
   "cell_type": "code",
   "execution_count": null,
   "metadata": {},
   "outputs": [],
   "source": [
    "import pandas as pd\n",
    "\n",
    "df1 = pd.DataFrame({'A': [1, 2, 3], 'B': [4, 5, 6]}, index=['a', 'b', 'c'])\n",
    "df2 = pd.DataFrame({'C': [7, 8], 'D': ['a', 'b']}, index=['e', 'f'])\n",
    "\n",
    "merged_df = df1.merge(df2, how='left',left_index=True, right_on='D')\n",
    "\n",
    "print(merged_df)"
   ]
  },
  {
   "cell_type": "code",
   "execution_count": null,
   "metadata": {},
   "outputs": [],
   "source": [
    "from pyecharts.charts import Line\n",
    "from pyecharts import options as opts\n",
    "from pyecharts.commons.utils import JsCode\n",
    "\n",
    "class MyMarkPointItem(opts.MarkPointItem):\n",
    "    def render_item(self, **kwargs):\n",
    "        value = self.value.replace(\"\\n\", \"<br/>\")\n",
    "        return (f\"{{name:'{self.name}', \"\n",
    "                f\"coord:{self.coord}, \"\n",
    "                f\"value:'{value}', \"\n",
    "                f\"symbol:'{self.symbol}', \"\n",
    "                f\"symbol_size:{self.symbol_size}, \"\n",
    "                f\"label:{self.label}, \"\n",
    "                f\"itemstyle:{self.itemstyle}, \"\n",
    "                f\"emphasis:{self.emphasis}}}\")\n",
    "\n",
    "line = (\n",
    "    Line()\n",
    "    .add_xaxis([\"A\", \"B\", \"C\", \"D\", \"E\"])\n",
    "    .add_yaxis(\"series\", [1, 3, 9, 27, 81],\n",
    "               markpoint_opts=opts.MarkPointOpts(\n",
    "                   data=[\n",
    "                       MyMarkPointItem(name=\"Maximum value\",\n",
    "                                       coord=[\"E\", 81],\n",
    "                                       value=\"This is the maximum value.\\nSecond line of text.\"),\n",
    "                       MyMarkPointItem(name=\"Minimum value\",\n",
    "                                       coord=[\"A\", 1],\n",
    "                                       value=\"This is the minimum value.\\nSecond line of text.\")\n",
    "                   ]\n",
    "               ))\n",
    "    .set_global_opts(title_opts=opts.TitleOpts(title=\"Line Chart\"))\n",
    ")\n",
    "\n",
    "line.render_notebook()  "
   ]
  },
  {
   "cell_type": "code",
   "execution_count": null,
   "metadata": {},
   "outputs": [],
   "source": [
    "from pyecharts import options as opts\n",
    "from pyecharts.charts import Line\n",
    "from pyecharts.globals import SymbolType\n",
    "from pyecharts.commons.utils import JsCode\n",
    "\n",
    "line = (\n",
    "    Line()\n",
    "    .add_xaxis([\"Mon\", \"Tue\", \"Wed\", \"Thu\", \"Fri\", \"Sat\", \"Sun\"])\n",
    "    .add_yaxis(\n",
    "        \"A\",\n",
    "        [11, 11, 15, 13, 12, 13, 10],\n",
    "        markpoint_opts=opts.MarkPointOpts(\n",
    "            data=[\n",
    "                opts.MarkPointItem(\n",
    "                    type_=\"max\",\n",
    "                    name=JsCode(\n",
    "                        \"\"\"\n",
    "                        function(params) {\n",
    "                            return 'Max<br>Value';\n",
    "                        }\n",
    "                        \"\"\"\n",
    "                    ),\n",
    "                    symbol_size=50,\n",
    "                    # symbol_offset=[0, \"-50%\"],\n",
    "                    itemstyle_opts=opts.ItemStyleOpts(color=\"red\"),\n",
    "                ),\n",
    "                opts.MarkPointItem(\n",
    "                    type_=\"min\",\n",
    "                    name=JsCode(\n",
    "                        \"\"\"\n",
    "                        function(params) {\n",
    "                            return 'Min<br>Value';\n",
    "                        }\n",
    "                        \"\"\"\n",
    "                    ),\n",
    "                    symbol_size=50,\n",
    "                    # symbol_offset=[0, \"-50%\"],\n",
    "                    itemstyle_opts=opts.ItemStyleOpts(color=\"green\"),\n",
    "                ),\n",
    "            ]\n",
    "        ),\n",
    "        symbol=SymbolType.DIAMOND,\n",
    "        symbol_size=10,\n",
    "        linestyle_opts=opts.LineStyleOpts(width=4),\n",
    "    )\n",
    "    .set_global_opts(\n",
    "        title_opts=opts.TitleOpts(title=\"Line-多标记点\"),\n",
    "        tooltip_opts=opts.TooltipOpts(trigger=\"axis\"),\n",
    "    )\n",
    ")\n",
    "\n",
    "line.render_notebook()"
   ]
  },
  {
   "cell_type": "code",
   "execution_count": null,
   "metadata": {},
   "outputs": [],
   "source": [
    "from pyecharts import options as opts\n",
    "from pyecharts.charts import Line\n",
    "\n",
    "line = (\n",
    "    Line()\n",
    "    .add_xaxis([\"Mon\", \"Tue\", \"Wed\", \"Thu\", \"Fri\", \"Sat\", \"Sun\"])\n",
    "    .add_yaxis(\n",
    "        \"A\",\n",
    "        [11, 11, 15, 13, 12, 13, 10],\n",
    "        markpoint_opts=opts.MarkPointOpts(\n",
    "            data=[\n",
    "                opts.MarkPointItem(\n",
    "                    type_=\"max\",\n",
    "                    name=\"Max\\nValue\",\n",
    "                    itemstyle_opts=opts.ItemStyleOpts(color=\"red\"),\n",
    "                    label=opts.LabelOpts(position=\"inside\", formatter=\"{a}\\n{b}\"),\n",
    "                ),\n",
    "                opts.MarkPointItem(\n",
    "                    type_=\"min\",\n",
    "                    name=\"Min\\nValue\",\n",
    "                    itemstyle_opts=opts.ItemStyleOpts(color=\"green\"),\n",
    "                    label=opts.LabelOpts(position=\"inside\", formatter=\"{a}\\n{b}\"),\n",
    "                ),\n",
    "            ]\n",
    "        ),\n",
    "        linestyle_opts=opts.LineStyleOpts(width=4),\n",
    "    )\n",
    "    .set_global_opts(\n",
    "        title_opts=opts.TitleOpts(title=\"Line-多标记点\"),\n",
    "        tooltip_opts=opts.TooltipOpts(trigger=\"axis\"),\n",
    "    )\n",
    ")\n",
    "\n",
    "line.render(\"line_multi_markpoint.html\")\n"
   ]
  },
  {
   "cell_type": "code",
   "execution_count": null,
   "metadata": {},
   "outputs": [],
   "source": [
    "from pyecharts import options as opts\n",
    "from pyecharts.charts import Line\n",
    "\n",
    "line = (\n",
    "    Line()\n",
    "    .add_xaxis([\"Mon\", \"Tue\", \"Wed\", \"Thu\", \"Fri\", \"Sat\", \"Sun\"])\n",
    "    .add_yaxis(\"A\", [11, 11, 15, 13, 12, 13, 10], markpoint_opts=opts.MarkPointOpts(\n",
    "            data=[\n",
    "                opts.MarkPointItem(type_=\"max\", name=\"Max\\nValue\"),\n",
    "                opts.MarkPointItem(type_=\"min\", name=\"Min\\nValue\"),\n",
    "            ]\n",
    "        ))\n",
    "    .set_global_opts(title_opts=opts.TitleOpts(title=\"Line-多标记点\"))\n",
    ")\n",
    "\n",
    "line.render_notebook()"
   ]
  },
  {
   "cell_type": "code",
   "execution_count": null,
   "metadata": {},
   "outputs": [],
   "source": [
    "import numpy as np\n",
    "from scipy.fft import fft\n",
    "import akshare as ak\n",
    "\n",
    "# 生成股票价格序列\n",
    "price = np.random.rand(1000)\n",
    "price = ak.stock_zh_a_hist(symbol=\"600519\", start_date='20220930',end_date = '20231101',adjust=\"qfq\")"
   ]
  },
  {
   "cell_type": "code",
   "execution_count": 3,
   "metadata": {},
   "outputs": [
    {
     "data": {
      "text/plain": [
       "'c:\\\\Stock\\\\jjtools\\\\my_stock_tools'"
      ]
     },
     "execution_count": 3,
     "metadata": {},
     "output_type": "execute_result"
    }
   ],
   "source": [
    "# 获取本项目的绝对路径\n",
    "import os\n",
    "# path = os.path.abspath(os.path.dirname(__file__))\n",
    "# jupyter notebook 没有 __file__ 属性，获取当前工作目录\n",
    "path = os.getcwd()\n",
    "path\n"
   ]
  },
  {
   "cell_type": "code",
   "execution_count": 4,
   "metadata": {},
   "outputs": [
    {
     "data": {
      "text/plain": [
       "'c:\\\\Stock'"
      ]
     },
     "execution_count": 4,
     "metadata": {},
     "output_type": "execute_result"
    }
   ],
   "source": [
    "import os\n",
    "# path = os.path.abspath(os.path.dirname(__file__))\n",
    "# jupyter notebook 没有 __file__ 属性，获取当前工作目录\n",
    "# path = os.getcwd()\n",
    "# path\n",
    "# 获取本项目的根目录\n",
    "path = os.path.abspath(os.path.join(os.getcwd(), \"../..\"))\n",
    "path"
   ]
  },
  {
   "cell_type": "code",
   "execution_count": 6,
   "metadata": {},
   "outputs": [
    {
     "name": "stdout",
     "output_type": "stream",
     "text": [
      "Name: Alice, Age: 30\n",
      "Name: Bob, Age: 40\n"
     ]
    }
   ],
   "source": [
    "from concurrent.futures import ThreadPoolExecutor\n",
    "import time\n",
    "\n",
    "def print_info(name, age):\n",
    "    print(f\"Name: {name}, Age: {age}\")\n",
    "    time.sleep(1)\n",
    "\n",
    "\n",
    "with ThreadPoolExecutor(max_workers=2) as executor:\n",
    "    executor.submit(print_info, name='Alice', age=30)\n",
    "    executor.submit(print_info, name='Bob', age=40)"
   ]
  },
  {
   "cell_type": "code",
   "execution_count": 20,
   "metadata": {},
   "outputs": [
    {
     "name": "stdout",
     "output_type": "stream",
     "text": [
      "Name: Alice, Age: 30\n",
      "Name: Bob, Age: 30\n",
      "Finished: Bob\n",
      "Finished: Alice\n"
     ]
    }
   ],
   "source": [
    "from concurrent.futures import ThreadPoolExecutor\n",
    "import concurrent.futures\n",
    "import time\n",
    "\n",
    "\n",
    "def print_info(name, age):\n",
    "    print(f\"Name: {name}, Age: {age}\")\n",
    "    time.sleep(1)\n",
    "\n",
    "args = ['Alice', 'Bob']\n",
    "\n",
    "with ThreadPoolExecutor(max_workers=2) as executor:\n",
    "    futures = {executor.submit(print_info, name=name, age=30): name for name in args}\n",
    "\n",
    "for future in concurrent.futures.as_completed(futures):\n",
    "    print(f\"Finished: {futures[future]}\")\n"
   ]
  },
  {
   "cell_type": "code",
   "execution_count": null,
   "metadata": {},
   "outputs": [],
   "source": [
    "import concurrent.futures\n",
    "\n",
    "\n",
    "def func(x, y):\n",
    "    # do something with x and y\n",
    "    return result\n",
    "\n",
    "\n",
    "with concurrent.futures.ThreadPoolExecutor() as executor:\n",
    "    args_list = [(1, 2), (3, 4), (5, 6)]  # 传递给函数的参数列表\n",
    "    futures = [executor.submit(func, *args) for args in args_list]\n",
    "\n",
    "# 获取执行结果\n",
    "results = [future.result() for future in futures]"
   ]
  },
  {
   "cell_type": "code",
   "execution_count": 29,
   "metadata": {},
   "outputs": [
    {
     "name": "stderr",
     "output_type": "stream",
     "text": [
      "                                             "
     ]
    },
    {
     "name": "stdout",
     "output_type": "stream",
     "text": [
      "<class 'pandas.core.frame.DataFrame'>\n",
      "RangeIndex: 5 entries, 0 to 4\n",
      "Data columns (total 16 columns):\n",
      " #   Column       Non-Null Count  Dtype  \n",
      "---  ------       --------------  -----  \n",
      " 0   序号           5 non-null      int64  \n",
      " 1   股票代码         5 non-null      object \n",
      " 2   股票简称         5 non-null      object \n",
      " 3   每股收益         0 non-null      float64\n",
      " 4   营业收入-营业收入    5 non-null      float64\n",
      " 5   营业收入-同比增长    0 non-null      float64\n",
      " 6   营业收入-季度环比增长  0 non-null      float64\n",
      " 7   净利润-净利润      5 non-null      float64\n",
      " 8   净利润-同比增长     0 non-null      float64\n",
      " 9   净利润-季度环比增长   0 non-null      float64\n",
      " 10  每股净资产        5 non-null      float64\n",
      " 11  净资产收益率       0 non-null      float64\n",
      " 12  每股经营现金流量     5 non-null      float64\n",
      " 13  销售毛利率        5 non-null      float64\n",
      " 14  所处行业         5 non-null      object \n",
      " 15  最新公告日期       5 non-null      object \n",
      "dtypes: float64(11), int64(1), object(4)\n",
      "memory usage: 768.0+ bytes\n",
      "None\n"
     ]
    },
    {
     "name": "stderr",
     "output_type": "stream",
     "text": [
      "\r"
     ]
    }
   ],
   "source": [
    "import akshare as ak\n",
    "\n",
    "date = '19990331'\n",
    "res = ak.stock_yjbb_em(date=date)\n",
    "print(res.info())"
   ]
  },
  {
   "cell_type": "code",
   "execution_count": 6,
   "metadata": {},
   "outputs": [
    {
     "name": "stdout",
     "output_type": "stream",
     "text": [
      "c:\\Stock\\jjtools\\my_stock_tools\\data\\stock_yjbb_em.csv\n"
     ]
    }
   ],
   "source": [
    "import settings\n",
    "import os\n",
    "print(os.path.join(settings.data_dir, 'stock_yjbb_em'+ '.csv'))"
   ]
  }
 ],
 "metadata": {
  "kernelspec": {
   "display_name": "juejin",
   "language": "python",
   "name": "python3"
  },
  "language_info": {
   "codemirror_mode": {
    "name": "ipython",
    "version": 3
   },
   "file_extension": ".py",
   "mimetype": "text/x-python",
   "name": "python",
   "nbconvert_exporter": "python",
   "pygments_lexer": "ipython3",
   "version": "3.8.16"
  },
  "orig_nbformat": 4,
  "vscode": {
   "interpreter": {
    "hash": "8746f3b58736fe7e4994c234760bc056bf52a329e594b986c7780e50653faf75"
   }
  }
 },
 "nbformat": 4,
 "nbformat_minor": 2
}
