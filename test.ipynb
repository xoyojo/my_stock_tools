{
 "cells": [
  {
   "cell_type": "code",
   "execution_count": 8,
   "metadata": {},
   "outputs": [
    {
     "name": "stdout",
     "output_type": "stream",
     "text": [
      "login success!\n",
      "login respond error_code:0\n",
      "login respond  error_msg:success\n",
      "query_history_k_data_plus respond error_code:0\n",
      "query_history_k_data_plus respond  error_msg:success\n",
      "           date       code       open       high        low      close  \\\n",
      "0    2017-01-03  sh.000952  7528.9340  7587.0680  7526.4200  7578.5170   \n",
      "1    2017-01-04  sh.000952  7577.7340  7614.3530  7523.7050  7610.7950   \n",
      "2    2017-01-05  sh.000952  7609.9930  7656.7330  7590.2460  7596.8740   \n",
      "3    2017-01-06  sh.000952  7596.2040  7605.9140  7542.4090  7547.8670   \n",
      "4    2017-01-09  sh.000952  7539.1260  7573.5920  7531.0550  7565.7470   \n",
      "..          ...        ...        ...        ...        ...        ...   \n",
      "114  2017-06-26  sh.000952  8230.6480  8528.0740  8199.2790  8496.7080   \n",
      "115  2017-06-27  sh.000952  8449.4250  8449.5400  8348.0060  8397.9190   \n",
      "116  2017-06-28  sh.000952  8366.0240  8427.2650  8255.0590  8266.8650   \n",
      "117  2017-06-29  sh.000952  8281.1360  8309.0740  8201.0010  8268.2490   \n",
      "118  2017-06-30  sh.000952  8231.8910  8266.4970  8166.3900  8212.4860   \n",
      "\n",
      "      preclose      volume            amount     pctChg  \n",
      "0    7519.5810   331124304   3173282336.0000   0.783800  \n",
      "1    7578.5170   346363296   3574807296.0000   0.425900  \n",
      "2    7610.7950   270394096   2915611024.0000  -0.182900  \n",
      "3    7596.8740   228616700   2527724208.0000  -0.645100  \n",
      "4    7547.8670   196932100   2215575008.0000   0.236900  \n",
      "..         ...         ...               ...        ...  \n",
      "114  8126.0930  1097017600  15644961792.0000   4.560800  \n",
      "115  8496.7080   616048896   9116115200.0000  -1.162700  \n",
      "116  8397.9190   520597008   7955038464.0000  -1.560500  \n",
      "117  8266.8650   432027296   6118409472.0000   0.016700  \n",
      "118  8268.2490   409263808   5737685504.0000  -0.674400  \n",
      "\n",
      "[119 rows x 10 columns]\n",
      "logout success!\n"
     ]
    },
    {
     "data": {
      "text/plain": [
       "<baostock.data.resultset.ResultData at 0x1d517421390>"
      ]
     },
     "execution_count": 8,
     "metadata": {},
     "output_type": "execute_result"
    }
   ],
   "source": [
    "import baostock as bs\n",
    "import pandas as pd\n",
    "import logging\n",
    "logging.getLogger('baostock').setLevel(logging.WARNING)\n",
    "\n",
    "# 登陆系统\n",
    "lg = bs.login()\n",
    "# 显示登陆返回信息\n",
    "print('login respond error_code:'+lg.error_code)\n",
    "print('login respond  error_msg:'+lg.error_msg)\n",
    "\n",
    "# 获取指数(综合指数、规模指数、一级行业指数、二级行业指数、策略指数、成长指数、价值指数、主题指数)K线数据\n",
    "# 综合指数，例如：sh.000001 上证指数，sz.399106 深证综指 等；\n",
    "# 规模指数，例如：sh.000016 上证50，sh.000300 沪深300，sh.000905 中证500，sz.399001 深证成指等；\n",
    "# 一级行业指数，例如：sh.000037 上证医药，sz.399433 国证交运 等；\n",
    "# 二级行业指数，例如：sh.000952 300地产，sz.399951 300银行 等；\n",
    "# 策略指数，例如：sh.000050 50等权，sh.000982 500等权 等；\n",
    "# 成长指数，例如：sz.399376 小盘成长 等；\n",
    "# 价值指数，例如：sh.000029 180价值 等；\n",
    "# 主题指数，例如：sh.000015 红利指数，sh.000063 上证周期 等；\n",
    "\n",
    "\n",
    "# 详细指标参数，参见“历史行情指标参数”章节；“周月线”参数与“日线”参数不同。\n",
    "# 周月线指标：date,code,open,high,low,close,volume,amount,adjustflag,turn,pctChg\n",
    "rs = bs.query_history_k_data_plus(\"sz.399622\",\n",
    "    \"date,code,open,high,low,close,preclose,volume,amount,pctChg\",\n",
    "    start_date='2017-01-01', end_date='2017-06-30', frequency=\"d\")\n",
    "print('query_history_k_data_plus respond error_code:'+rs.error_code)\n",
    "print('query_history_k_data_plus respond  error_msg:'+rs.error_msg)\n",
    "\n",
    "# 打印结果集\n",
    "data_list = []\n",
    "while (rs.error_code == '0') & rs.next():\n",
    "    # 获取一条记录，将记录合并在一起\n",
    "    data_list.append(rs.get_row_data())\n",
    "result = pd.DataFrame(data_list, columns=rs.fields)\n",
    "# 结果集输出到csv文件\n",
    "# result.to_csv(\"D:\\\\history_Index_k_data.csv\", index=False)\n",
    "print(result)\n",
    "\n",
    "# 登出系统\n",
    "bs.logout()\n"
   ]
  },
  {
   "cell_type": "code",
   "execution_count": 9,
   "metadata": {},
   "outputs": [
    {
     "name": "stdout",
     "output_type": "stream",
     "text": [
      "login success!\n",
      "login respond error_code:0\n",
      "login respond  error_msg:success\n",
      "query_stock_industry error_code:0\n",
      "query_stock_industry respond  error_msg:success\n",
      "      updateDate       code code_name industry industryClassification\n",
      "0     2023-03-20  sh.600000      浦发银行       银行                 申万一级行业\n",
      "1     2023-03-20  sh.600001      邯郸钢铁                          申万一级行业\n",
      "2     2023-03-20  sh.600002      齐鲁石化                          申万一级行业\n",
      "3     2023-03-20  sh.600003     ST东北高                          申万一级行业\n",
      "4     2023-03-20  sh.600004      白云机场     交通运输                 申万一级行业\n",
      "...          ...        ...       ...      ...                    ...\n",
      "5127  2023-03-20  sz.301396      宏景科技                          申万一级行业\n",
      "5128  2023-03-20  sz.301398      星源卓镁                          申万一级行业\n",
      "5129  2023-03-20  sz.301408      华人健康                          申万一级行业\n",
      "5130  2023-03-20  sz.301419       阿莱德                          申万一级行业\n",
      "5131  2023-03-20  sz.301439      泓淋电力     电气设备                 申万一级行业\n",
      "\n",
      "[5132 rows x 5 columns]\n",
      "logout success!\n"
     ]
    },
    {
     "data": {
      "text/plain": [
       "<baostock.data.resultset.ResultData at 0x1d517bcdd20>"
      ]
     },
     "execution_count": 9,
     "metadata": {},
     "output_type": "execute_result"
    }
   ],
   "source": [
    "import baostock as bs\n",
    "import pandas as pd\n",
    "\n",
    "# 登陆系统\n",
    "lg = bs.login()\n",
    "# 显示登陆返回信息\n",
    "print('login respond error_code:'+lg.error_code)\n",
    "print('login respond  error_msg:'+lg.error_msg)\n",
    "\n",
    "# 获取行业分类数据\n",
    "rs = bs.query_stock_industry()\n",
    "# rs = bs.query_stock_basic(code_name=\"浦发银行\")\n",
    "print('query_stock_industry error_code:'+rs.error_code)\n",
    "print('query_stock_industry respond  error_msg:'+rs.error_msg)\n",
    "\n",
    "# 打印结果集\n",
    "industry_list = []\n",
    "while (rs.error_code == '0') & rs.next():\n",
    "    # 获取一条记录，将记录合并在一起\n",
    "    industry_list.append(rs.get_row_data())\n",
    "result = pd.DataFrame(industry_list, columns=rs.fields)\n",
    "# 结果集输出到csv文件\n",
    "result.to_csv(\"D:/stock_industry.csv\", encoding=\"gbk\", index=False)\n",
    "print(result)\n",
    "\n",
    "# 登出系统\n",
    "bs.logout()"
   ]
  },
  {
   "cell_type": "code",
   "execution_count": 13,
   "metadata": {},
   "outputs": [
    {
     "name": "stderr",
     "output_type": "stream",
     "text": [
      "100%|██████████| 19/19 [00:15<00:00,  1.26it/s]"
     ]
    },
    {
     "name": "stdout",
     "output_type": "stream",
     "text": [
      "            date     open    close     high      low        amount\n",
      "0     2005-01-04   993.11   978.14   993.11   976.82  4.235502e+06\n",
      "1     2005-01-05   976.94   981.50   985.52   972.80  3.366739e+06\n",
      "2     2005-01-06   982.37   968.90   982.37   966.52  3.137877e+06\n",
      "3     2005-01-07   968.77   967.72   978.27   963.10  3.340484e+06\n",
      "4     2005-01-10   967.81   977.77   978.15   963.31  2.680019e+06\n",
      "...          ...      ...      ...      ...      ...           ...\n",
      "4423  2023-03-20  4389.05  4345.03  4436.51  4341.79  1.209208e+08\n",
      "4424  2023-03-21  4355.03  4339.17  4380.74  4323.45  8.208646e+07\n",
      "4425  2023-03-22  4353.26  4372.74  4391.57  4341.75  8.104404e+07\n",
      "4426  2023-03-23  4362.59  4414.06  4414.15  4355.88  8.645108e+07\n",
      "4427  2023-03-24  4404.91  4359.73  4405.01  4350.95  8.723353e+07\n",
      "\n",
      "[4428 rows x 6 columns]\n"
     ]
    },
    {
     "name": "stderr",
     "output_type": "stream",
     "text": [
      "\n"
     ]
    }
   ],
   "source": [
    "import akshare as ak\n",
    "\n",
    "stock_zh_index_daily_tx_df = ak.stock_zh_index_daily_tx(symbol=\"sh000919\")\n",
    "print(stock_zh_index_daily_tx_df)"
   ]
  }
 ],
 "metadata": {
  "kernelspec": {
   "display_name": "juejin",
   "language": "python",
   "name": "python3"
  },
  "language_info": {
   "codemirror_mode": {
    "name": "ipython",
    "version": 3
   },
   "file_extension": ".py",
   "mimetype": "text/x-python",
   "name": "python",
   "nbconvert_exporter": "python",
   "pygments_lexer": "ipython3",
   "version": "3.10.10"
  },
  "orig_nbformat": 4
 },
 "nbformat": 4,
 "nbformat_minor": 2
}
