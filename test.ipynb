{
 "cells": [
  {
   "cell_type": "code",
   "execution_count": 5,
   "metadata": {},
   "outputs": [
    {
     "name": "stdout",
     "output_type": "stream",
     "text": [
      "      trade_date       pe   pe_ttm       pb       ps   ps_ttm  dv_ratio  \\\n",
      "0     2003-04-04  18.9976  18.9976   2.5092   3.9012   3.9012    7.3269   \n",
      "1     2003-04-07  18.7494  18.7494   2.4764   3.8502   3.8502    7.4238   \n",
      "2     2003-04-08  18.6837  18.6837   2.4677   3.8367   3.8367    7.4499   \n",
      "3     2003-04-09  18.9757  18.9757   2.5063   3.8967   3.8967    7.3353   \n",
      "4     2003-04-10  18.9173  18.9173   2.4986   3.8847   3.8847    7.3580   \n",
      "...          ...      ...      ...      ...      ...      ...       ...   \n",
      "4781  2023-03-24  42.5904  37.4921  12.4692  21.0405  18.8218    2.4505   \n",
      "4782  2023-03-27  42.3311  37.2639  12.3933  20.9124  18.7072    2.4655   \n",
      "4783  2023-03-28  42.6665  37.5592  12.4915  21.0782  18.8554    2.4461   \n",
      "4784  2023-03-29  42.8629  37.7320  12.5490  21.1752  18.9422    2.4349   \n",
      "4785  2023-03-30  43.1024  37.9428  12.6191  21.2935  19.0480    2.4214   \n",
      "\n",
      "      dv_ttm      total_mv  \n",
      "0     7.3269  7.158250e+05  \n",
      "1     7.4238  7.064750e+05  \n",
      "2     7.4499  7.040000e+05  \n",
      "3     7.3353  7.150000e+05  \n",
      "4     7.3580  7.128000e+05  \n",
      "...      ...           ...  \n",
      "4781  2.4505  2.234299e+08  \n",
      "4782  2.4655  2.220694e+08  \n",
      "4783  2.4461  2.238293e+08  \n",
      "4784  2.4349  2.248594e+08  \n",
      "4785  2.4214  2.261156e+08  \n",
      "\n",
      "[4786 rows x 9 columns]\n"
     ]
    }
   ],
   "source": [
    "import akshare as ak\n",
    "\n",
    "stock_a_lg_indicator_df = ak.stock_a_lg_indicator(symbol=\"600519\")\n",
    "print(stock_a_lg_indicator_df)"
   ]
  }
 ],
 "metadata": {
  "kernelspec": {
   "display_name": "juejin",
   "language": "python",
   "name": "python3"
  },
  "language_info": {
   "codemirror_mode": {
    "name": "ipython",
    "version": 3
   },
   "file_extension": ".py",
   "mimetype": "text/x-python",
   "name": "python",
   "nbconvert_exporter": "python",
   "pygments_lexer": "ipython3",
   "version": "3.10.10"
  },
  "orig_nbformat": 4
 },
 "nbformat": 4,
 "nbformat_minor": 2
}
