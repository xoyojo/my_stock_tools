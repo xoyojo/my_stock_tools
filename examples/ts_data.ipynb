{
 "cells": [
  {
   "attachments": {},
   "cell_type": "markdown",
   "metadata": {},
   "source": [
    "# 如何优雅高效的撸数据？"
   ]
  },
  {
   "attachments": {},
   "cell_type": "markdown",
   "metadata": {},
   "source": [
    "Tushare的行情等时间序列数据，一般都有两个常用参数：trade_date和ts_code，分别是交易日期和证券代码。如果你是想提取部分个股的历史数据，用ts_code参数，加上开始和结束日期可以方便提取数据。\n",
    "\n",
    "但！如果是要获取所有历史数据，我们不建议通过ts_code来循环，而是用trade_date来提取，道理很简单，股票有3800多个，需要循环3800多次，每年的交易日也就才220左右，所以效率更高。总的来说，积分越高可以调取的频次会越高。\n",
    "\n",
    "也就是以下方式："
   ]
  },
  {
   "cell_type": "code",
   "execution_count": 1,
   "metadata": {},
   "outputs": [
    {
     "name": "stdout",
     "output_type": "stream",
     "text": [
      "     ts_code trade_date   open   high    low  close  pre_close  change  \\\n",
      "0  002507.SZ   20200325  30.79  31.07  29.11  29.90      30.11   -0.21   \n",
      "1  603366.SH   20200325   5.68   5.74   5.57   5.65       5.55    0.10   \n",
      "2  603369.SH   20200325  27.11  28.06  26.86  27.72      26.43    1.29   \n",
      "3  002519.SZ   20200325   4.82   4.84   4.62   4.68       4.69   -0.01   \n",
      "4  603389.SH   20200325   4.50   4.54   4.43   4.53       4.43    0.10   \n",
      "\n",
      "   pct_chg        vol      amount  \n",
      "0  -0.6974  263059.08  783721.546  \n",
      "1   1.8018  129442.82   73156.302  \n",
      "2   4.8808  134490.08  368846.960  \n",
      "3  -0.2132  335282.74  158588.520  \n",
      "4   2.2573   27885.80   12520.168  \n"
     ]
    }
   ],
   "source": [
    "import tushare as ts\n",
    "import time\n",
    "\n",
    "ts.set_token('60348c9924c35ceb20e8fa05df697f7304537b511b45def253d713c3')\n",
    "\n",
    "\n",
    "pro = ts.pro_api()\n",
    "\n",
    "df = pro.daily(trade_date='20200325')\n",
    "print(df.head())"
   ]
  },
  {
   "attachments": {},
   "cell_type": "markdown",
   "metadata": {},
   "source": [
    "在循环提取数据时，首先我们可以通过交易日历拿到一段历史的交易日。"
   ]
  },
  {
   "cell_type": "code",
   "execution_count": 17,
   "metadata": {},
   "outputs": [
    {
     "name": "stdout",
     "output_type": "stream",
     "text": [
      "   cal_date\n",
      "0  20200327\n",
      "1  20200326\n",
      "2  20200325\n"
     ]
    }
   ],
   "source": [
    "#获取20200101～20200401之间所有有交易的日期\n",
    "dt = pro.trade_cal(exchange='SSE', is_open='1', \n",
    "                            start_date='20200325', \n",
    "                            end_date='20200328', \n",
    "                            fields='cal_date')\n",
    "\n",
    "print(dt.head())"
   ]
  },
  {
   "attachments": {},
   "cell_type": "markdown",
   "metadata": {},
   "source": [
    "循环过程中，为了保持数据提取的稳定性，可以先建立一个专门的函数，实现一个重试机制："
   ]
  },
  {
   "cell_type": "code",
   "execution_count": 24,
   "metadata": {},
   "outputs": [],
   "source": [
    "def get_daily(trade_date='', start_date='', end_date=''):\n",
    "    for _ in range(3):\n",
    "        try:\n",
    "            if trade_date:\n",
    "                df = pro.daily(trade_date=trade_date)\n",
    "                print(1)\n",
    "            else:\n",
    "                df = pro.daily(start_date=start_date, end_date=end_date)\n",
    "                print(2)\n",
    "        except:\n",
    "            time.sleep(1)\n",
    "        else:\n",
    "            print(1)\n",
    "            print(df.head())\n",
    "            return df"
   ]
  },
  {
   "attachments": {},
   "cell_type": "markdown",
   "metadata": {},
   "source": [
    "然后通过在循环中调取数据："
   ]
  },
  {
   "cell_type": "code",
   "execution_count": 25,
   "metadata": {},
   "outputs": [
    {
     "name": "stdout",
     "output_type": "stream",
     "text": [
      "20200327\n",
      "1\n",
      "1\n",
      "     ts_code trade_date   open   high    low  close  pre_close  change  \\\n",
      "0  600740.SH   20200327   5.44   5.45   5.35   5.35       5.37   -0.02   \n",
      "1  600750.SH   20200327  11.86  11.89  11.65  11.66      11.78   -0.12   \n",
      "2  600757.SH   20200327   5.42   5.48   5.39   5.39       5.38    0.01   \n",
      "3  600760.SH   20200327  27.81  28.40  27.63  27.98      27.56    0.42   \n",
      "4  600769.SH   20200327   4.92   5.03   4.91   5.01       4.92    0.09   \n",
      "\n",
      "   pct_chg       vol      amount  \n",
      "0  -0.3724  60705.25   32748.994  \n",
      "1  -1.0187  44281.16   52112.392  \n",
      "2   0.1859  62069.00   33649.513  \n",
      "3   1.5239  97228.22  272089.201  \n",
      "4   1.8293  43928.57   21867.194  \n",
      "20200326\n",
      "1\n",
      "1\n",
      "     ts_code trade_date    open    high     low   close  pre_close  change  \\\n",
      "0  002891.SZ   20200326   21.35   21.82   21.13   21.48      21.35    0.13   \n",
      "1  002903.SZ   20200326   12.83   13.11   12.48   12.54      12.74   -0.20   \n",
      "2  002912.SZ   20200326  157.10  160.92  155.50  158.06     159.73   -1.67   \n",
      "3  002919.SZ   20200326   14.80   15.90   14.51   15.46      14.62    0.84   \n",
      "4  002927.SZ   20200326   19.15   19.15   18.20   18.41      19.27   -0.86   \n",
      "\n",
      "   pct_chg       vol      amount  \n",
      "0   0.6089  25018.08   53684.897  \n",
      "1  -1.5699  54310.50   69456.072  \n",
      "2  -1.0455  12348.05  195677.096  \n",
      "3   5.7456  33341.27   51171.726  \n",
      "4  -4.4629  70236.79  130699.120  \n",
      "20200325\n",
      "1\n",
      "1\n",
      "     ts_code trade_date   open   high    low  close  pre_close  change  \\\n",
      "0  002507.SZ   20200325  30.79  31.07  29.11  29.90      30.11   -0.21   \n",
      "1  603366.SH   20200325   5.68   5.74   5.57   5.65       5.55    0.10   \n",
      "2  603369.SH   20200325  27.11  28.06  26.86  27.72      26.43    1.29   \n",
      "3  002519.SZ   20200325   4.82   4.84   4.62   4.68       4.69   -0.01   \n",
      "4  603389.SH   20200325   4.50   4.54   4.43   4.53       4.43    0.10   \n",
      "\n",
      "   pct_chg        vol      amount  \n",
      "0  -0.6974  263059.08  783721.546  \n",
      "1   1.8018  129442.82   73156.302  \n",
      "2   4.8808  134490.08  368846.960  \n",
      "3  -0.2132  335282.74  158588.520  \n",
      "4   2.2573   27885.80   12520.168  \n"
     ]
    }
   ],
   "source": [
    "for date in dt['cal_date'].values:\n",
    "    print(date)\n",
    "    df = get_daily(date)"
   ]
  },
  {
   "cell_type": "code",
   "execution_count": 5,
   "metadata": {},
   "outputs": [],
   "source": [
    "df"
   ]
  },
  {
   "attachments": {},
   "cell_type": "markdown",
   "metadata": {},
   "source": [
    "error:vs code output exceeds the size limit.\n",
    "settings\n",
    "\"notebook.output.textLineLimit\": 500"
   ]
  }
 ],
 "metadata": {
  "kernelspec": {
   "display_name": "Python 3.8.16 ('CZSC')",
   "language": "python",
   "name": "python3"
  },
  "language_info": {
   "codemirror_mode": {
    "name": "ipython",
    "version": 3
   },
   "file_extension": ".py",
   "mimetype": "text/x-python",
   "name": "python",
   "nbconvert_exporter": "python",
   "pygments_lexer": "ipython3",
   "version": "3.8.16"
  },
  "orig_nbformat": 4,
  "vscode": {
   "interpreter": {
    "hash": "7f213a5c8291a4937bcb7607a29c38da837e52511b564d0a93efea795214c4f7"
   }
  }
 },
 "nbformat": 4,
 "nbformat_minor": 2
}
