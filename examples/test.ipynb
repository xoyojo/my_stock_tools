{
 "cells": [
  {
   "cell_type": "code",
   "execution_count": 7,
   "metadata": {},
   "outputs": [
    {
     "name": "stdout",
     "output_type": "stream",
     "text": [
      "task1: False\n",
      "task2: False\n",
      "task3: False\n",
      "crawl task1 finished\n",
      "crawl task2 finished\n",
      "task1: True\n",
      "task2: True\n",
      "task3: False\n",
      "1\n",
      "crawl task5 finished\n"
     ]
    }
   ],
   "source": [
    "# coding: utf-8\n",
    "from concurrent.futures import ThreadPoolExecutor\n",
    "import time\n",
    "\n",
    "\n",
    "def spider(page):\n",
    "    time.sleep(page)\n",
    "    print(f\"crawl task{page} finished\")\n",
    "    return page\n",
    "\n",
    "with ThreadPoolExecutor(max_workers=5) as t:  # 创建一个最大容纳数量为5的线程池\n",
    "    task1 = t.submit(spider, 1)\n",
    "    task2 = t.submit(spider, 2)  # 通过submit提交执行的函数到线程池中\n",
    "    task3 = t.submit(spider, 5)\n",
    "\n",
    "    print(f\"task1: {task1.done()}\")  # 通过done来判断线程是否完成\n",
    "    print(f\"task2: {task2.done()}\")\n",
    "    print(f\"task3: {task3.done()}\")\n",
    "\n",
    "    time.sleep(2.5)\n",
    "    print(f\"task1: {task1.done()}\")\n",
    "    print(f\"task2: {task2.done()}\")\n",
    "    print(f\"task3: {task3.done()}\")\n",
    "    print(task1.result())  # 通过result来获取返回值"
   ]
  },
  {
   "cell_type": "code",
   "execution_count": 10,
   "metadata": {},
   "outputs": [
    {
     "name": "stdout",
     "output_type": "stream",
     "text": [
      "crawl task1 finished\n",
      "finished\n",
      "crawl task2 finished\n",
      "crawl task3 finished\n",
      "DoneAndNotDoneFutures(done={<Future at 0x208b664e8b0 state=finished returned int>, <Future at 0x208b67349d0 state=finished returned int>, <Future at 0x208b6668d30 state=finished returned int>}, not_done={<Future at 0x208b679e0a0 state=running>})\n",
      "crawl task4 finished\n"
     ]
    }
   ],
   "source": [
    "from concurrent.futures import ThreadPoolExecutor, wait, FIRST_COMPLETED, ALL_COMPLETED\n",
    "import time\n",
    "\n",
    "def spider(page):\n",
    "    time.sleep(page)\n",
    "    print(f\"crawl task{page} finished\")\n",
    "    return page\n",
    "\n",
    "with ThreadPoolExecutor(max_workers=5) as t: \n",
    "    all_task = [t.submit(spider, page) for page in range(1, 5)]\n",
    "    wait(all_task, return_when=FIRST_COMPLETED)\n",
    "    print('finished')\n",
    "    print(wait(all_task, timeout=2.5))\n",
    "\n"
   ]
  },
  {
   "cell_type": "code",
   "execution_count": 4,
   "metadata": {},
   "outputs": [
    {
     "name": "stdout",
     "output_type": "stream",
     "text": [
      "crawl task1 finished\n",
      "main: 1\n",
      "crawl task2 finished\n",
      "main: 2\n",
      "crawl task3 finished\n",
      "main: 3\n",
      "crawl task4 finished\n",
      "main: 4\n",
      "1\n"
     ]
    }
   ],
   "source": [
    "from concurrent.futures import ThreadPoolExecutor, as_completed\n",
    "import time\n",
    "\n",
    "\n",
    "def spider(page):\n",
    "    time.sleep(page)\n",
    "    print(f\"crawl task{page} finished\")\n",
    "    return page\n",
    "\n",
    "def main():\n",
    "    with ThreadPoolExecutor(max_workers=5) as t:\n",
    "        obj_list = []\n",
    "        for page in range(1, 5):\n",
    "            obj = t.submit(spider, page)\n",
    "            obj_list.append(obj)\n",
    "\n",
    "        for future in as_completed(obj_list):\n",
    "            data = future.result()\n",
    "            print(f\"main: {data}\")\n",
    "        print(1)\n",
    "\n",
    "main()"
   ]
  },
  {
   "cell_type": "code",
   "execution_count": 10,
   "metadata": {},
   "outputs": [
    {
     "name": "stdout",
     "output_type": "stream",
     "text": [
      "task1:2\n",
      "task2:4\n",
      "task3:1\n",
      "task4:8\n"
     ]
    }
   ],
   "source": [
    "import time\n",
    "from concurrent.futures import ThreadPoolExecutor\n",
    "\n",
    "def spider(page):\n",
    "    time.sleep(page)\n",
    "    return page\n",
    "\n",
    "start = time.time()\n",
    "executor = ThreadPoolExecutor(max_workers=4)\n",
    "\n",
    "i = 1\n",
    "for result in executor.map(spider, [2, 4, 1, 8],timeout=9):\n",
    "    print(\"task{}:{}\".format(i, result))\n",
    "    i += 1\n"
   ]
  },
  {
   "cell_type": "code",
   "execution_count": 71,
   "metadata": {},
   "outputs": [],
   "source": [
    "import akshare as ak\n",
    "import logging\n",
    "import talib as tl\n",
    "import concurrent.futures\n",
    "import datetime\n",
    "\n",
    "\n",
    "def fetch(stock):\n",
    "    \"\"\"\n",
    "    返回某只股票、指定周期和指定日期间的历史行情日频率数据\n",
    "    Args: stock\n",
    "        type:tunple ( (stock_code,stock_name), period, start_date, end_date, adjust)\n",
    "    Return: stock_data\n",
    "        type:daraframe\n",
    "    \"\"\"\n",
    "\n",
    "\n",
    "    # stock_zh_a_hist：返回单只股票的历史行情日频率数据， https://www.akshare.xyz/data/stock/stock.html#id20\n",
    "    try:\n",
    "        data = ak.stock_zh_a_hist(symbol=stock[0][0], period=stock[1], start_date=stock[2], end_date=stock[3],adjust=stock[4])\n",
    "    except  Exception as exc:\n",
    "        print('%s(%r) fetch data generated an exception: %s' % (stock[0][1], stock[0][0], exc))\n",
    "\n",
    "    if data is None or data.empty:\n",
    "        logging.debug(\"股票：\"+stock+\" 没有数据，略过...\")\n",
    "        return\n",
    "\n",
    "    data['p_change'] = tl.ROC(data['收盘'], 1)\n",
    "\n",
    "    return data\n",
    "\n",
    "def run(stocks,period=\"daily\",start_date=\"20200201\",end_date=datetime.datetime.now().strftime('%Y%m%d'),adjust=\"qfq\"):\n",
    "    \"\"\"\n",
    "    返回沪深京 A 股指定股票、指定周期和指定日期间的历史行情日频率数据\n",
    "    Args: stocks \n",
    "        type:list [('代码', '名称')]\n",
    "    Return: stocks_data\n",
    "        type:dict keys:('代码', '名称'); values: daraframe\n",
    "    \"\"\"\n",
    "\n",
    "    stocks_data = {}\n",
    "\n",
    "\n",
    "    with concurrent.futures.ThreadPoolExecutor(max_workers=12) as executor:\n",
    "        future_to_stock = {executor.submit(fetch, (stock,period,start_date,end_date,adjust)): stock for stock in stocks} # 通过submit提交执行的函数到线程池中\n",
    "        # as_completed:当子线程中的任务执行完后，直接用 result() 获取返回结果\n",
    "        for future in concurrent.futures.as_completed(future_to_stock):\n",
    "            stock = future_to_stock[future] # stock: tunple ('代码', '名称')\n",
    "            try:\n",
    "                data = future.result()\n",
    "                if data is not None:\n",
    "                    data = data.astype({'成交量': 'double'})\n",
    "                    stocks_data[stock] = data\n",
    "            except Exception as exc:\n",
    "                print('%s(%r) generated an exception: %s' % (stock[1], stock[0], exc))\n",
    "\n",
    "    \n",
    "    \n",
    "    return stocks_data\n",
    "\n",
    "stocks =  [('600519', '名称1'),('600172', '名称2')]\n",
    "res = run(stocks,start_date=\"20200201\",end_date=\"20200228\")\n",
    "# print(res)"
   ]
  },
  {
   "cell_type": "code",
   "execution_count": 50,
   "metadata": {},
   "outputs": [
    {
     "name": "stdout",
     "output_type": "stream",
     "text": [
      "名称1('600519') generated an exception: tuple index out of range\n",
      "名称2('600172') generated an exception: tuple index out of range\n",
      "{}\n"
     ]
    }
   ],
   "source": []
  },
  {
   "cell_type": "code",
   "execution_count": 45,
   "metadata": {},
   "outputs": [
    {
     "data": {
      "text/plain": [
       "'20230327'"
      ]
     },
     "execution_count": 45,
     "metadata": {},
     "output_type": "execute_result"
    }
   ],
   "source": [
    "#返回当前日期\n",
    "import datetime\n",
    "datetime.datetime.now().strftime('%Y%m%d')\n",
    "\n",
    "\n"
   ]
  }
 ],
 "metadata": {
  "kernelspec": {
   "display_name": "juejin",
   "language": "python",
   "name": "python3"
  },
  "language_info": {
   "codemirror_mode": {
    "name": "ipython",
    "version": 3
   },
   "file_extension": ".py",
   "mimetype": "text/x-python",
   "name": "python",
   "nbconvert_exporter": "python",
   "pygments_lexer": "ipython3",
   "version": "3.8.16"
  },
  "orig_nbformat": 4
 },
 "nbformat": 4,
 "nbformat_minor": 2
}
