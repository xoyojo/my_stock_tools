{
 "cells": [
  {
   "cell_type": "code",
   "execution_count": 25,
   "metadata": {},
   "outputs": [
    {
     "name": "stdout",
     "output_type": "stream",
     "text": [
      "login success!\n",
      "logout success!\n"
     ]
    },
    {
     "data": {
      "text/plain": [
       "<baostock.data.resultset.ResultData at 0x20e7950bc10>"
      ]
     },
     "execution_count": 25,
     "metadata": {},
     "output_type": "execute_result"
    }
   ],
   "source": [
    "import baostock as bs\n",
    "import pandas as pd\n",
    "\n",
    "lg = bs.login()\n",
    "\n",
    "rs = bs.query_history_k_data_plus(\"sh.600000\",\n",
    "    \"date,code,open,high,low,close,preclose,volume,amount,adjustflag,turn,tradestatus,pctChg,isST\",\n",
    "    start_date='2017-07-01', end_date='2017-12-31',\n",
    "    frequency=\"d\", adjustflag=\"3\")\n",
    "\n",
    "\n",
    "data_list = []\n",
    "while (rs.error_code == '0') & rs.next():\n",
    "    data_list.append(rs.get_row_data())\n",
    "result = pd.DataFrame(data_list, columns=rs.fields)\n",
    "\n",
    "bs.logout()"
   ]
  },
  {
   "cell_type": "code",
   "execution_count": 26,
   "metadata": {},
   "outputs": [
    {
     "ename": "ModuleNotFoundError",
     "evalue": "No module named 'czsc'",
     "output_type": "error",
     "traceback": [
      "\u001b[1;31m---------------------------------------------------------------------------\u001b[0m",
      "\u001b[1;31mModuleNotFoundError\u001b[0m                       Traceback (most recent call last)",
      "Cell \u001b[1;32mIn[26], line 1\u001b[0m\n\u001b[1;32m----> 1\u001b[0m \u001b[39mfrom\u001b[39;00m \u001b[39mczsc\u001b[39;00m\u001b[39m.\u001b[39;00m\u001b[39mdata\u001b[39;00m \u001b[39mimport\u001b[39;00m convert_bao_to_ts\n\u001b[0;32m      2\u001b[0m df \u001b[39m=\u001b[39m convert_bao_to_ts(result)\n\u001b[0;32m      3\u001b[0m df\u001b[39m.\u001b[39mhead()\n",
      "\u001b[1;31mModuleNotFoundError\u001b[0m: No module named 'czsc'"
     ]
    }
   ],
   "source": [
    "from czsc.data import convert_bao_to_ts\n",
    "df = convert_bao_to_ts(result)\n",
    "df.head()\n",
    "\n",
    "\n",
    "\n"
   ]
  },
  {
   "cell_type": "code",
   "execution_count": 16,
   "metadata": {},
   "outputs": [
    {
     "name": "stdout",
     "output_type": "stream",
     "text": [
      "login success!\n",
      "login respond error_code:0\n",
      "login respond  error_msg:success\n",
      "query_history_k_data_plus respond error_code:0\n",
      "query_history_k_data_plus respond  error_msg:success\n",
      "            date               time       code     open     high      low  \\\n",
      "0     2017-07-03  20170703093500000  sh.600000  12.6400  12.6500  12.6000   \n",
      "1     2017-07-03  20170703094000000  sh.600000  12.6000  12.6100  12.5800   \n",
      "2     2017-07-03  20170703094500000  sh.600000  12.6000  12.6100  12.5800   \n",
      "3     2017-07-03  20170703095000000  sh.600000  12.5800  12.5900  12.5200   \n",
      "4     2017-07-03  20170703095500000  sh.600000  12.5600  12.5700  12.5300   \n",
      "...          ...                ...        ...      ...      ...      ...   \n",
      "1003  2017-07-31  20170731144000000  sh.600000  13.3900  13.4000  13.3700   \n",
      "1004  2017-07-31  20170731144500000  sh.600000  13.3700  13.3800  13.3500   \n",
      "1005  2017-07-31  20170731145000000  sh.600000  13.3700  13.3800  13.3600   \n",
      "1006  2017-07-31  20170731145500000  sh.600000  13.3700  13.3800  13.3400   \n",
      "1007  2017-07-31  20170731150000000  sh.600000  13.3400  13.3700  13.3400   \n",
      "\n",
      "        close   volume         amount adjustflag  \n",
      "0     12.6000   997100  12589619.0000          3  \n",
      "1     12.6000  1408100  17737598.0000          3  \n",
      "2     12.5800   992900  12506138.0000          3  \n",
      "3     12.5400  2033100  25532352.0000          3  \n",
      "4     12.5500   639000   8017965.0000          3  \n",
      "...       ...      ...            ...        ...  \n",
      "1003  13.3700  1054800  14118567.0000          3  \n",
      "1004  13.3700   607700   8124634.0000          3  \n",
      "1005  13.3800   498100   6662258.0000          3  \n",
      "1006  13.3500   736000   9836976.0000          3  \n",
      "1007  13.3600  1028600  13739700.0000          3  \n",
      "\n",
      "[1008 rows x 10 columns]\n",
      "logout success!\n"
     ]
    },
    {
     "data": {
      "text/plain": [
       "<baostock.data.resultset.ResultData at 0x20e09b24f10>"
      ]
     },
     "execution_count": 16,
     "metadata": {},
     "output_type": "execute_result"
    }
   ],
   "source": [
    "import baostock as bs\n",
    "import pandas as pd\n",
    "\n",
    "#### 登陆系统 ####\n",
    "lg = bs.login()\n",
    "# 显示登陆返回信息\n",
    "print('login respond error_code:'+lg.error_code)\n",
    "print('login respond  error_msg:'+lg.error_msg)\n",
    "\n",
    "#### 获取沪深A股历史K线数据 ####\n",
    "# 详细指标参数，参见“历史行情指标参数”章节；“分钟线”参数与“日线”参数不同。“分钟线”不包含指数。\n",
    "# 分钟线指标：date,time,code,open,high,low,close,volume,amount,adjustflag\n",
    "# 周月线指标：date,code,open,high,low,close,volume,amount,adjustflag,turn,pctChg\n",
    "rs = bs.query_history_k_data_plus(\"sh.600000\",\n",
    "    \"date,time,code,open,high,low,close,volume,amount,adjustflag\",\n",
    "    start_date='2017-07-01', end_date='2017-07-31',\n",
    "    frequency=\"5\", adjustflag=\"3\")\n",
    "print('query_history_k_data_plus respond error_code:'+rs.error_code)\n",
    "print('query_history_k_data_plus respond  error_msg:'+rs.error_msg)\n",
    "\n",
    "#### 打印结果集 ####\n",
    "data_list = []\n",
    "while (rs.error_code == '0') & rs.next():\n",
    "    # 获取一条记录，将记录合并在一起\n",
    "    data_list.append(rs.get_row_data())\n",
    "result = pd.DataFrame(data_list, columns=rs.fields)\n",
    "\n",
    "#### 结果集输出到csv文件 ####   \n",
    "result.to_csv(\"D:\\\\history_A_stock_k_data.csv\", index=False)\n",
    "print(result)\n",
    "\n",
    "#### 登出系统 ####\n",
    "bs.logout()"
   ]
  }
 ],
 "metadata": {
  "kernelspec": {
   "display_name": "juejin",
   "language": "python",
   "name": "python3"
  },
  "language_info": {
   "codemirror_mode": {
    "name": "ipython",
    "version": 3
   },
   "file_extension": ".py",
   "mimetype": "text/x-python",
   "name": "python",
   "nbconvert_exporter": "python",
   "pygments_lexer": "ipython3",
   "version": "3.8.16"
  },
  "orig_nbformat": 4
 },
 "nbformat": 4,
 "nbformat_minor": 2
}
